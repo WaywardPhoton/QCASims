{
 "metadata": {
  "language_info": {
   "codemirror_mode": {
    "name": "ipython",
    "version": 3
   },
   "file_extension": ".py",
   "mimetype": "text/x-python",
   "name": "python",
   "nbconvert_exporter": "python",
   "pygments_lexer": "ipython3",
   "version": "3.8.5-final"
  },
  "orig_nbformat": 2,
  "kernelspec": {
   "name": "python3",
   "display_name": "Python 3",
   "language": "python"
  }
 },
 "nbformat": 4,
 "nbformat_minor": 2,
 "cells": [
  {
   "cell_type": "code",
   "execution_count": null,
   "metadata": {},
   "outputs": [],
   "source": [
    "import csv\n",
    "import numpy as np\n",
    "import matplotlib.pyplot as plt\n",
    "from matplotlib.ticker import FormatStrFormatter\n",
    "\n",
    "from run_qca import run_qca\n",
    "from process_response import process_response\n",
    "from parse_qca import parse_qca"
   ]
  },
  {
   "cell_type": "code",
   "execution_count": null,
   "metadata": {},
   "outputs": [],
   "source": [
    "def parse_cross_csv(reader):\n",
    "    time = []\n",
    "    spectrum_data = []\n",
    "\n",
    "    for row in reader:\n",
    "        time.append(float(row[0]))\n",
    "\n",
    "        spectrum = []\n",
    "        for i in range(2,len(row)):\n",
    "            spectrum.append(float(row[i]))\n",
    "        spectrum_data.append(spectrum)\n",
    "\n",
    "    time =  np.array(time)\n",
    "    spectrum_data = np.array(spectrum_data)\n",
    "    spectrum_data = np.transpose(spectrum_data)\n",
    "\n",
    "    return time, spectrum_data"
   ]
  },
  {
   "cell_type": "code",
   "execution_count": null,
   "metadata": {},
   "outputs": [],
   "source": [
    "xing1 = open('crossover/xover_1.csv', mode='r', encoding='utf-8-sig')\n",
    "xing3 = open('crossover/xover_3.csv', mode='r', encoding='utf-8-sig')\n",
    "xing1_reader = csv.reader(xing1)\n",
    "xing3_reader = csv.reader(xing3)\n",
    "\n",
    "time_1, spectrum_data_1 = parse_cross_csv(xing1_reader)\n",
    "time_3, spectrum_data_3 = parse_cross_csv(xing3_reader)\n",
    "\n",
    "fig = plt.figure()\n",
    "ax = plt.subplot(111)\n",
    "\n",
    "for spectrum in range(len(spectrum_data_1)):\n",
    "    ax.semilogy(time_1, spectrum_data_1[spectrum], label='X1, E'+ str(spectrum+1))\n",
    "\n",
    "min_1=np.min(spectrum_data_1[0])\n",
    "print(\"E1-Eground1:\"+ str(min_1))    \n",
    "\n",
    "for spectrum in range(len(spectrum_data_3)):\n",
    "    ax.semilogy(time_3, spectrum_data_3[spectrum],label='X3, E'+ str(spectrum+1))\n",
    "\n",
    "kb = 0.3*np.ones(np.shape(spectrum_data_3[0]))\n",
    "ax.semilogy(time_3, kb,label='k_b*T')\n",
    "min_3=np.min(spectrum_data_3[0])\n",
    "print(\"E1-Eground3:\"+ str(min_3))\n",
    "\n",
    "plt.title('Plot of 3 width crossover: energy eigenvalues vs normalized time')\n",
    "ax.legend()\n",
    "plt.xlabel(\"Normalized time\")\n",
    "plt.ylabel(\"10log(Energy) in GHz\")\n",
    "plt.show()"
   ]
  },
  {
   "cell_type": "code",
   "execution_count": null,
   "metadata": {},
   "outputs": [],
   "source": [
    "fig = plt.figure()\n",
    "ax = plt.subplot(111)\n",
    "ax.semilogy(time_1, spectrum_data_1[0], label= 'Width 1')\n",
    "ax.semilogy(time_3, spectrum_data_3[0], label= 'Width 3')\n",
    "\n",
    "plt.title('Width 1 and 3 crossover: 1st excited state energy vs time')\n",
    "ax.legend()\n",
    "plt.xlabel(\"Normalized time\")\n",
    "plt.ylabel(\"10log(Energy) in GHz\")\n",
    "plt.show()"
   ]
  },
  {
   "cell_type": "code",
   "execution_count": null,
   "metadata": {},
   "outputs": [],
   "source": [
    "num_reads = 1000\n",
    "drivers, inputs, cells, output_cell_index = parse_qca('CIRCUITS/COP1')\n",
    "response = run_qca(drivers, inputs, cells, output_cell_index, [1], False, num_reads)\n",
    "process_response(response, output_cell_index, [1], num_reads)\n",
    "\n",
    "drivers, inputs, cells, output_cell_index = parse_qca('CIRCUITS/COP3')\n",
    "response = run_qca(drivers, inputs, cells, output_cell_index, [1], False, num_reads)\n",
    "process_response(response, output_cell_index, [1], num_reads)\n",
    "\n",
    "drivers, inputs, cells, output_cell_index = parse_qca('CIRCUITS/COP5')\n",
    "response = run_qca(drivers, inputs, cells, output_cell_index, [1], False, num_reads)\n",
    "process_response(response, output_cell_index, [1], num_reads)"
   ]
  }
 ]
}
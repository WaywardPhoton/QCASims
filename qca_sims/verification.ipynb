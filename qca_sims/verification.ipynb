{
 "metadata": {
  "language_info": {
   "codemirror_mode": {
    "name": "ipython",
    "version": 3
   },
   "file_extension": ".py",
   "mimetype": "text/x-python",
   "name": "python",
   "nbconvert_exporter": "python",
   "pygments_lexer": "ipython3",
   "version": "3.8.5-final"
  },
  "orig_nbformat": 2,
  "kernelspec": {
   "name": "python3",
   "display_name": "Python 3",
   "language": "python"
  }
 },
 "nbformat": 4,
 "nbformat_minor": 2,
 "cells": [
  {
   "cell_type": "code",
   "execution_count": null,
   "metadata": {},
   "outputs": [],
   "source": [
    "import csv\n",
    "import numpy as np\n",
    "import matplotlib.pyplot as plt\n",
    "from matplotlib.ticker import FormatStrFormatter\n",
    "\n",
    "from run_qca import run_qca\n",
    "from process_response import process_response\n",
    "from parse_qca import parse_qca\n"
   ]
  },
  {
   "cell_type": "code",
   "execution_count": null,
   "metadata": {},
   "outputs": [],
   "source": [
    "num_reads = 50\n",
    "drivers, inputs, cells, output_cell_index = parse_qca('CIRCUITS/MAJ')\n",
    "response = run_qca(drivers, inputs, cells, output_cell_index, [1,-1,-1], True, num_reads)\n",
    "process_response(response, output_cell_index, [-1], num_reads)"
   ]
  },
  {
   "cell_type": "code",
   "execution_count": null,
   "metadata": {},
   "outputs": [],
   "source": [
    "num_reads = 500\n",
    "drivers, inputs, cells, output_cell_index = parse_qca('CIRCUITS/WIRE10')\n",
    "response = run_qca(drivers, inputs, cells, output_cell_index, [1], True, num_reads)\n",
    "process_response(response, output_cell_index, [1], num_reads)"
   ]
  },
  {
   "cell_type": "code",
   "execution_count": null,
   "metadata": {},
   "outputs": [],
   "source": [
    "num_reads = 500\n",
    "drivers, inputs, cells, output_cell_index = parse_qca('CIRCUITS/INV')\n",
    "response = run_qca(drivers, inputs, cells, output_cell_index, [1], True, num_reads)\n",
    "process_response(response, output_cell_index, [-1], num_reads)"
   ]
  },
  {
   "cell_type": "code",
   "execution_count": null,
   "metadata": {},
   "outputs": [],
   "source": []
  }
 ]
}
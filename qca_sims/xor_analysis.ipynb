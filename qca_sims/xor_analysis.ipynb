{
 "metadata": {
  "language_info": {
   "codemirror_mode": {
    "name": "ipython",
    "version": 3
   },
   "file_extension": ".py",
   "mimetype": "text/x-python",
   "name": "python",
   "nbconvert_exporter": "python",
   "pygments_lexer": "ipython3",
   "version": "3.8.5-final"
  },
  "orig_nbformat": 2,
  "kernelspec": {
   "name": "python3",
   "display_name": "Python 3",
   "language": "python"
  }
 },
 "nbformat": 4,
 "nbformat_minor": 2,
 "cells": [
  {
   "cell_type": "code",
   "execution_count": null,
   "metadata": {},
   "outputs": [],
   "source": [
    "import csv\n",
    "import numpy as np\n",
    "import matplotlib.pyplot as plt\n",
    "from matplotlib.ticker import FormatStrFormatter\n",
    "\n",
    "from run_qca import run_qca\n",
    "from process_response import process_response\n",
    "from parse_qca import parse_qca"
   ]
  },
  {
   "cell_type": "code",
   "execution_count": null,
   "metadata": {
    "tags": []
   },
   "outputs": [],
   "source": [
    "num_reads = 500\n",
    "\n",
    "drivers, inputs, cells, output_cell_index = parse_qca('CIRCUITS/XOR')\n",
    "response = run_qca(drivers, inputs, cells, output_cell_index, [1, 1], False, num_reads)\n",
    "process_response(response, output_cell_index, [-1], num_reads)"
   ]
  },
  {
   "cell_type": "code",
   "execution_count": null,
   "metadata": {},
   "outputs": [],
   "source": [
    "samples = response.record['sample']\n",
    "\n",
    "count1s_overall = np.zeros(np.shape(samples[0]))\n",
    "countneg1s_overall = np.zeros(np.shape(samples[0]))\n",
    "\n",
    "\n",
    "for i in range(len(samples[0])):\n",
    "    for sample in samples:\n",
    "        if sample[i] == 1:\n",
    "            count1s_overall[i] += 1\n",
    "        else:\n",
    "            countneg1s_overall[i] += 1\n",
    "\n",
    "print('overall proportion of 1s per cell', [round(i/len(samples),3) for i in count1s_overall])\n",
    "print('overall proportion of -1s per cell', [round(i/len(samples),3) for i in countneg1s_overall])\n",
    "\n",
    "count1s_ground = np.zeros(np.shape(samples[0]))\n",
    "countneg1s_ground = np.zeros(np.shape(samples[0]))\n",
    "\n",
    "\n",
    "for i in range(len(samples[0])):\n",
    "    sample = samples[0]\n",
    "    if sample[i] == 1:\n",
    "        count1s_ground[i] += 1\n",
    "    else:\n",
    "        countneg1s_ground[i] += 1\n",
    "\n",
    "print('proportion of 1s per cell in ground energy state', [round(i,3) for i in count1s_ground])\n",
    "print('proportion of -1s per cell in ground energy state', [round(i,3) for i in countneg1s_ground])\n"
   ]
  }
 ]
}